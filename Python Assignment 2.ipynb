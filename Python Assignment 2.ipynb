{
 "cells": [
  {
   "cell_type": "markdown",
   "metadata": {},
   "source": [
    "# 1. Write a program which takes 5 inputs from user for different subject’s marks, total it and generate mark sheet using grades?"
   ]
  },
  {
   "cell_type": "code",
   "execution_count": 1,
   "metadata": {},
   "outputs": [
    {
     "name": "stdout",
     "output_type": "stream",
     "text": [
      "Enter marks of 5 subjest for marks Sheet\n",
      "Enter Marks for Subject 1: 97\n",
      "Enter Marks for Subject 2: 82\n",
      "Enter Marks for Subject 3: 77\n",
      "Enter Marks for Subject 4: 82\n",
      "Enter Marks for Subject 5: 89\n",
      "Congratulations you got Grade A+\n"
     ]
    }
   ],
   "source": [
    "print(\"Enter marks of 5 subjest for marks Sheet\")\n",
    "a = int(input(\"Enter Marks for Subject 1: \"))\n",
    "b = int(input(\"Enter Marks for Subject 2: \"))\n",
    "c = int(input(\"Enter Marks for Subject 3: \"))\n",
    "d = int(input(\"Enter Marks for Subject 4: \"))\n",
    "e = int(input(\"Enter Marks for Subject 5: \"))\n",
    "per = (a+b+c+d+e)/5\n",
    "per = int(per)\n",
    "\n",
    "if per >= 0 and per <33:\n",
    "    print(\"Fail\")\n",
    "elif per >= 33 and per<40:\n",
    "    print(\"Congratulations you got Grade E\")\n",
    "elif per >= 40 and per<50:\n",
    "    print(\"Congratulations you got Grade D\")\n",
    "elif per>=50 and per<60:\n",
    "    print(\"Congratulations you got Grade C\")\n",
    "elif per>=60 and per<70:\n",
    "    print(\"Congratulations you got Grade B\")\n",
    "elif per>=70 and per<80:\n",
    "    print(\"Congratulations you got Grade A\")\n",
    "elif per>=80 and per<=100:\n",
    "    print(\"Congratulations you got Grade A+\")\n",
    "else:\n",
    "    print(\"Not valid\")"
   ]
  },
  {
   "cell_type": "markdown",
   "metadata": {},
   "source": [
    "# 2. Write a program which take input from user and identify that the given number is even or odd? "
   ]
  },
  {
   "cell_type": "code",
   "execution_count": 2,
   "metadata": {},
   "outputs": [
    {
     "name": "stdout",
     "output_type": "stream",
     "text": [
      "Enter your number to check Even or Odd: 42\n",
      "Number is Even\n"
     ]
    }
   ],
   "source": [
    "x = int(input(\"Enter your number to check Even or Odd: \"))\n",
    "if (x % 2) == 0:\n",
    "    print(\"Number is Even\")\n",
    "else:\n",
    "    print(\"Number is Odd\")"
   ]
  },
  {
   "cell_type": "markdown",
   "metadata": {},
   "source": [
    "# 3. Write a program which print the length of the list? "
   ]
  },
  {
   "cell_type": "code",
   "execution_count": 19,
   "metadata": {},
   "outputs": [
    {
     "name": "stdout",
     "output_type": "stream",
     "text": [
      "6\n"
     ]
    }
   ],
   "source": [
    "students = [\"Usama\", \"Umama\", \"Mujtaba\", \"Ahsan\", \"Mazhar\", \"Hassan\"]\n",
    "print(len(students))"
   ]
  },
  {
   "cell_type": "markdown",
   "metadata": {},
   "source": [
    "# 4. Write a Python program to sum all the numeric items in a list? "
   ]
  },
  {
   "cell_type": "code",
   "execution_count": 23,
   "metadata": {},
   "outputs": [
    {
     "name": "stdout",
     "output_type": "stream",
     "text": [
      "Sum of list is : 347\n"
     ]
    }
   ],
   "source": [
    "num = [11, 101, 2, 30, 51, 8, 55, 89]\n",
    "add = 0\n",
    "for i in num:\n",
    "    add +=i\n",
    "print(\"Sum of list is :\",add)"
   ]
  },
  {
   "cell_type": "markdown",
   "metadata": {},
   "source": [
    "# 5. Write a Python program to get the largest number from a numeric list. "
   ]
  },
  {
   "cell_type": "code",
   "execution_count": 34,
   "metadata": {},
   "outputs": [
    {
     "name": "stdout",
     "output_type": "stream",
     "text": [
      "203\n"
     ]
    }
   ],
   "source": [
    "num = [11, 101, 203, 30, 51, 80, 55, 89]\n",
    "largest = 0\n",
    "for  i in num:\n",
    "    if i >= largest:\n",
    "        largest = i\n",
    "print(largest)"
   ]
  },
  {
   "cell_type": "markdown",
   "metadata": {},
   "source": [
    "# 6. Take a list, say for example this one:   a = [1, 1, 2, 3, 5, 8, 13, 21, 34, 55, 89] and write a program that prints out all the elements of the list that are less than 5. "
   ]
  },
  {
   "cell_type": "code",
   "execution_count": 41,
   "metadata": {},
   "outputs": [
    {
     "data": {
      "text/plain": [
       "[2, 3, 1, 1, 4]"
      ]
     },
     "execution_count": 41,
     "metadata": {},
     "output_type": "execute_result"
    }
   ],
   "source": [
    "num = [2, 3, 5, 5, 8, 13, 21, 34, 55, 89, 1, 1, 4]\n",
    "newlist = []\n",
    "for i in num:\n",
    "    if i < 5:\n",
    "        newlist.append(i)\n",
    "newlist"
   ]
  },
  {
   "cell_type": "code",
   "execution_count": null,
   "metadata": {},
   "outputs": [],
   "source": []
  }
 ],
 "metadata": {
  "kernelspec": {
   "display_name": "Python 3",
   "language": "python",
   "name": "python3"
  },
  "language_info": {
   "codemirror_mode": {
    "name": "ipython",
    "version": 3
   },
   "file_extension": ".py",
   "mimetype": "text/x-python",
   "name": "python",
   "nbconvert_exporter": "python",
   "pygments_lexer": "ipython3",
   "version": "3.7.3"
  }
 },
 "nbformat": 4,
 "nbformat_minor": 2
}
